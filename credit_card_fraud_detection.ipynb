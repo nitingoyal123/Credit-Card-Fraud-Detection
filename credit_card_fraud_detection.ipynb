{
  "cells": [
    {
      "cell_type": "markdown",
      "metadata": {
        "id": "view-in-github",
        "colab_type": "text"
      },
      "source": [
        "<a href=\"https://colab.research.google.com/github/nitingoyal123/Credit-Card-Fraud-Detection/blob/main/credit_card_fraud_detection.ipynb\" target=\"_parent\"><img src=\"https://colab.research.google.com/assets/colab-badge.svg\" alt=\"Open In Colab\"/></a>"
      ]
    },
    {
      "cell_type": "code",
      "execution_count": null,
      "metadata": {
        "id": "1hzMsTiGl35F"
      },
      "outputs": [],
      "source": [
        "import pandas as pd\n",
        "import seaborn as sns\n",
        "import matplotlib.pyplot as plt\n",
        "import numpy as np"
      ]
    },
    {
      "cell_type": "code",
      "execution_count": null,
      "metadata": {
        "id": "AK3KqeSYpZzc"
      },
      "outputs": [],
      "source": [
        "data = pd.read_csv('https://www.kaggle.com/datasets/mlg-ulb/creditcardfraud', on_bad_lines='skip')\n",
        "data.shape"
      ]
    },
    {
      "cell_type": "code",
      "execution_count": null,
      "metadata": {
        "id": "m3VEOq7Aar67"
      },
      "outputs": [],
      "source": [
        "from sklearn.preprocessing import StandardScaler\n",
        "sc = StandardScaler()\n",
        "data['Amount'] = sc.fit_transform(pd.DataFrame(data['Amount']))"
      ]
    },
    {
      "cell_type": "code",
      "execution_count": null,
      "metadata": {
        "id": "TQySpIXXpAzP"
      },
      "outputs": [],
      "source": [
        "def data_cleaning(data) :\n",
        "\n",
        "  new_data = data.drop_duplicates()\n",
        "  data = data.drop('Time', axis=1)\n",
        "  X = data.drop('Class', axis=1)\n",
        "  Y = data['Class']\n",
        "  new_data = pd.concat([X,Y], axis=1)\n",
        "  new_data = new_data.dropna(subset=[Y.name])\n",
        "  return new_data"
      ]
    },
    {
      "cell_type": "code",
      "execution_count": null,
      "metadata": {
        "id": "mrVMkodbqu4q"
      },
      "outputs": [],
      "source": [
        "# imbalance data\n",
        "data['Class'].value_counts()"
      ]
    },
    {
      "cell_type": "code",
      "execution_count": null,
      "metadata": {
        "id": "M4tX9biyqshv"
      },
      "outputs": [],
      "source": [
        "param_grid = {\n",
        "    'Logistic Regression': {\n",
        "    'classifier__C': [0.01, 0.1, 1, 10, 100],\n",
        "    'classifier__solver': ['lbfgs', 'liblinear']}\n",
        ",\n",
        "    'Decision Tree Classifier': {\n",
        "    'classifier__max_depth': [None, 10, 20, 30],\n",
        "    'classifier__min_samples_split': [2, 5, 10],\n",
        "    'classifier__min_samples_leaf': [1, 2, 4]}\n",
        ",\n",
        "    'Random Forest Classifier': {\n",
        "    'classifier__n_estimators': [50, 100, 200],\n",
        "    'classifier__max_depth': [None, 10, 20, 30],\n",
        "    'classifier__min_samples_split': [2, 5, 10],\n",
        "    'classifier__min_samples_leaf': [1, 2, 4]}\n",
        "}"
      ]
    },
    {
      "cell_type": "code",
      "execution_count": null,
      "metadata": {
        "id": "mROC4SIGqpcy"
      },
      "outputs": [],
      "source": [
        "def evaluate_model(Y_pred, Y_test, name) :\n",
        "  print(f\"\\n============={name}============\")\n",
        "  print(f\"\\nAccuracy : {accuracy_score(Y_pred, Y_test)}\")\n",
        "  print(f\"\\nPrecision : {precision_score(Y_pred, Y_test)}\")\n",
        "  print(f\"\\nRecall : {recall_score(Y_pred, Y_test)}\")\n",
        "  print(f\"\\nF1 Score : {f1_score(Y_pred, Y_test)}\")"
      ]
    },
    {
      "cell_type": "markdown",
      "metadata": {
        "id": "yof-l1mvW8Lu"
      },
      "source": [
        "# UnderSampling"
      ]
    },
    {
      "cell_type": "code",
      "execution_count": null,
      "metadata": {
        "id": "wjCnAtNfkJ8Z"
      },
      "outputs": [],
      "source": [
        "# UNDERSAMPLING\n",
        "\n",
        "new_data = data_cleaning(data)\n",
        "\n",
        "normal = new_data[new_data['Class'] == 0]\n",
        "fraud = new_data[new_data['Class'] == 1]\n",
        "\n",
        "normal_sample = normal.sample(fraud.shape[0])\n",
        "new_data = pd.concat([normal_sample, fraud])\n",
        "new_data.shape"
      ]
    },
    {
      "cell_type": "code",
      "execution_count": null,
      "metadata": {
        "id": "4UEhmjxdZ5ta"
      },
      "outputs": [],
      "source": [
        "X_clean = new_data.drop('Class', axis=1)\n",
        "Y_clean = new_data['Class']\n",
        "\n",
        "Y_clean.value_counts()"
      ]
    },
    {
      "cell_type": "code",
      "execution_count": null,
      "metadata": {
        "id": "0QCO2jnFvDcG"
      },
      "outputs": [],
      "source": [
        "from sklearn.model_selection import train_test_split\n",
        "X_train, X_test, Y_train, Y_test = train_test_split(X_clean, Y_clean, test_size=0.2, random_state=42)"
      ]
    },
    {
      "cell_type": "code",
      "execution_count": null,
      "metadata": {
        "id": "7DcLObvRZxIh"
      },
      "outputs": [],
      "source": [
        "from sklearn.impute import SimpleImputer\n",
        "from sklearn.pipeline import Pipeline\n",
        "\n",
        "def create_pipeline(clf) :\n",
        "  imputer = SimpleImputer()\n",
        "  pipeline = Pipeline([\n",
        "      ('imputer', imputer),\n",
        "      ('classifier', clf)\n",
        "  ])\n",
        "  return pipeline"
      ]
    },
    {
      "cell_type": "code",
      "execution_count": null,
      "metadata": {
        "id": "YraarVKJWbAc"
      },
      "outputs": [],
      "source": [
        "from sklearn.linear_model import LogisticRegression\n",
        "from sklearn.ensemble import RandomForestClassifier\n",
        "from sklearn.tree import DecisionTreeClassifier\n",
        "from sklearn.model_selection import GridSearchCV\n",
        "from sklearn.metrics import accuracy_score, f1_score, precision_score, recall_score\n",
        "classifiers = {\n",
        "    \"Logistic Regression\" : LogisticRegression(max_iter=1000),\n",
        "    \"Decision Tree Classifier\" : DecisionTreeClassifier(),\n",
        "    \"Random Forest Classifier\" : RandomForestClassifier()\n",
        "}\n",
        "\n",
        "for name, clf in classifiers.items() :\n",
        "  grid_search = GridSearchCV(create_pipeline(clf), param_grid[name], cv=5, scoring='roc_auc')\n",
        "  grid_search.fit(X_train, Y_train)\n",
        "  Y_pred = grid_search.predict(X_test)\n",
        "  evaluate_model(Y_pred, Y_test, name)"
      ]
    },
    {
      "cell_type": "markdown",
      "metadata": {
        "id": "TIrSqv_pXezm"
      },
      "source": [
        "# OverSampling"
      ]
    },
    {
      "cell_type": "code",
      "execution_count": null,
      "metadata": {
        "id": "oNVyfOF-Xdwc"
      },
      "outputs": [],
      "source": [
        "new_data = data_cleaning(data)\n",
        "X = new_data.drop('Class', axis=1)\n",
        "Y = new_data['Class']"
      ]
    },
    {
      "cell_type": "code",
      "execution_count": null,
      "metadata": {
        "id": "PRzPQ46PYAve"
      },
      "outputs": [],
      "source": [
        "Y.value_counts()"
      ]
    },
    {
      "cell_type": "code",
      "execution_count": null,
      "metadata": {
        "id": "TtS7BM82Y-ym"
      },
      "outputs": [],
      "source": [
        "from imblearn.over_sampling import SMOTE\n",
        "\n",
        "X_res, Y_res = SMOTE().fit_resample(X,Y)\n",
        "Y_res.value_counts()"
      ]
    },
    {
      "cell_type": "code",
      "execution_count": null,
      "metadata": {
        "id": "-pSYX6wQcPRx"
      },
      "outputs": [],
      "source": [
        "from sklearn.model_selection import train_test_split\n",
        "X_train, X_test, Y_train, Y_test = train_test_split(X_res, Y_res, test_size=0.2, random_state=42)"
      ]
    },
    {
      "cell_type": "code",
      "execution_count": null,
      "metadata": {
        "id": "fXQ5SMUIcUas",
        "outputId": "598647d5-8a7b-434a-c561-8bb023158433",
        "colab": {
          "base_uri": "https://localhost:8080/"
        }
      },
      "outputs": [
        {
          "metadata": {
            "tags": null
          },
          "name": "stdout",
          "output_type": "stream",
          "text": [
            "\n",
            "=============Logistic Regression============\n",
            "\n",
            "Accuracy : 0.9821291103046299\n",
            "\n",
            "Precision : 0.9778613882981624\n",
            "\n",
            "Recall : 0.9865764427573307\n",
            "\n",
            "F1 Score : 0.9821995837441122\n",
            "\n",
            "=============Decision Tree Classifier============\n",
            "\n",
            "Accuracy : 0.9993951391180028\n",
            "\n",
            "Precision : 0.9992911281967392\n",
            "\n",
            "Recall : 0.9995091355331334\n",
            "\n",
            "F1 Score : 0.9994001199760049\n"
          ]
        }
      ],
      "source": [
        "from sklearn.linear_model import LogisticRegression\n",
        "from sklearn.ensemble import RandomForestClassifier\n",
        "from sklearn.tree import DecisionTreeClassifier\n",
        "from sklearn.metrics import accuracy_score, f1_score, precision_score, recall_score\n",
        "classifiers = {\n",
        "    \"Logistic Regression\" : LogisticRegression(max_iter=1000),\n",
        "    \"Decision Tree Classifier\" : DecisionTreeClassifier(),\n",
        "    \"Random Forest Classifier\" : RandomForestClassifier()\n",
        "}\n",
        "\n",
        "for name, clf in classifiers.items() :\n",
        "  grid_search = GridSearchCV(create_pipeline(clf), param_grid[name], cv=5, scoring='roc_auc')\n",
        "  grid_search.fit(X_train, Y_train)\n",
        "  Y_pred = grid_search.predict(X_test)\n",
        "  evaluate_model(Y_pred, Y_test, name)"
      ]
    }
  ],
  "metadata": {
    "colab": {
      "provenance": [],
      "authorship_tag": "ABX9TyPnBA9lF/fWqPK71kc0Xqqs",
      "include_colab_link": true
    },
    "kernelspec": {
      "display_name": "Python 3",
      "name": "python3"
    },
    "language_info": {
      "name": "python"
    }
  },
  "nbformat": 4,
  "nbformat_minor": 0
}